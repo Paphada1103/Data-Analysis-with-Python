{
 "cells": [
  {
   "cell_type": "markdown",
   "id": "09f5f4c7-0836-442b-a331-64cb3e6cd416",
   "metadata": {},
   "source": [
    "## 1. Identifying Null Values"
   ]
  },
  {
   "cell_type": "code",
   "execution_count": 11,
   "id": "d0b8ece1-776b-4a88-9445-2341bee7631c",
   "metadata": {},
   "outputs": [],
   "source": [
    "## Loading the Dataset\n",
    "\n",
    "import numpy as np\n",
    "import pandas as pd\n",
    "data = pd.read_csv(\"googleplaystore.csv\")"
   ]
  },
  {
   "cell_type": "code",
   "execution_count": 2,
   "id": "07dec969-e1ca-4433-81a1-42de99ed24ac",
   "metadata": {},
   "outputs": [
    {
     "name": "stdout",
     "output_type": "stream",
     "text": [
      "App                  0\n",
      "Category             0\n",
      "Rating            1474\n",
      "Reviews              0\n",
      "Size                 0\n",
      "Installs             0\n",
      "Type                 1\n",
      "Price                0\n",
      "Content Rating       1\n",
      "Genres               0\n",
      "Last Updated         0\n",
      "Current Ver          8\n",
      "Android Ver          3\n",
      "dtype: int64\n"
     ]
    }
   ],
   "source": [
    "## Checking for Null Values\n",
    "\n",
    "print(data.isnull().sum())"
   ]
  },
  {
   "cell_type": "markdown",
   "id": "3b4ceabd-1d67-40b3-96e7-8a8d779c145e",
   "metadata": {},
   "source": [
    "##  2. Handling Null Values"
   ]
  },
  {
   "cell_type": "code",
   "execution_count": 12,
   "id": "0ebd97c5-7f63-423e-9bac-70b7accc7c3d",
   "metadata": {},
   "outputs": [
    {
     "name": "stdout",
     "output_type": "stream",
     "text": [
      "App               0\n",
      "Category          0\n",
      "Rating            0\n",
      "Reviews           0\n",
      "Size              0\n",
      "Installs          0\n",
      "Type              0\n",
      "Price             0\n",
      "Content Rating    0\n",
      "Genres            0\n",
      "Last Updated      0\n",
      "Current Ver       0\n",
      "Android Ver       0\n",
      "dtype: int64\n"
     ]
    }
   ],
   "source": [
    "df = data.dropna()\n",
    "print(df.isnull().sum())"
   ]
  },
  {
   "cell_type": "code",
   "execution_count": null,
   "id": "a1569f64-d706-4353-a7de-ec6a27c04415",
   "metadata": {},
   "outputs": [],
   "source": []
  }
 ],
 "metadata": {
  "kernelspec": {
   "display_name": "Python [conda env:base] *",
   "language": "python",
   "name": "conda-base-py"
  },
  "language_info": {
   "codemirror_mode": {
    "name": "ipython",
    "version": 3
   },
   "file_extension": ".py",
   "mimetype": "text/x-python",
   "name": "python",
   "nbconvert_exporter": "python",
   "pygments_lexer": "ipython3",
   "version": "3.13.5"
  }
 },
 "nbformat": 4,
 "nbformat_minor": 5
}
